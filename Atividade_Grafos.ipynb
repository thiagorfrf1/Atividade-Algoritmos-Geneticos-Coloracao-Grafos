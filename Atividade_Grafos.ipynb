{
 "cells": [
  {
   "cell_type": "code",
   "execution_count": 1,
   "metadata": {
    "scrolled": true
   },
   "outputs": [
    {
     "name": "stderr",
     "output_type": "stream",
     "text": [
      "/anaconda3/lib/python3.7/site-packages/deap/tools/_hypervolume/pyhv.py:33: ImportWarning: Falling back to the python version of hypervolume module. Expect this to be very slow.\n",
      "  \"module. Expect this to be very slow.\", ImportWarning)\n"
     ]
    }
   ],
   "source": [
    "import random\n",
    "import numpy\n",
    "import math\n",
    "\n",
    "from deap import base\n",
    "from deap import creator\n",
    "from deap import tools\n",
    "from deap import algorithms"
   ]
  },
  {
   "cell_type": "code",
   "execution_count": 2,
   "metadata": {},
   "outputs": [],
   "source": [
    "creator.create(\"FitnessMin\", base.Fitness, weights=(-1.0,))\n",
    "creator.create(\"Individual\", list, fitness=creator.FitnessMin)"
   ]
  },
  {
   "cell_type": "code",
   "execution_count": 3,
   "metadata": {},
   "outputs": [],
   "source": [
    "N_ATTRIBUTES = 10\n",
    "RANDINT_LOW = 0\n",
    "RANDINT_UP = 2\n",
    "\n",
    "toolbox = base.Toolbox()\n",
    "toolbox.register(\"attr_int\", random.randint, RANDINT_LOW, RANDINT_UP)\n",
    "toolbox.register(\"individual\", tools.initRepeat, creator.Individual, toolbox.attr_int, N_ATTRIBUTES)\n",
    "toolbox.register(\"population\", tools.initRepeat, list, toolbox.individual)\n"
   ]
  },
  {
   "cell_type": "code",
   "execution_count": 4,
   "metadata": {},
   "outputs": [],
   "source": [
    "def my_evaluate(individual):\n",
    "    \n",
    "    LISTA_CORES = [[0,1,9,4, 0],\n",
    "                   [1,0,5,2, 0],\n",
    "                   [2,1,6,3, 0],\n",
    "                   [3,2,7,4, 0],\n",
    "                   [4,3,8,0, 0],\n",
    "                   [5,1,7,8, 0],\n",
    "                   [6,2,9,8, 0],\n",
    "                   [7,3,5,9, 0],\n",
    "                   [8,4,6,5, 0],\n",
    "                   [9,0,6,7, 0]]\n",
    "    fitness = 0\n",
    "    cont = 0\n",
    "    for i in range(len(LISTA_CORES)):\n",
    "        posicao = LISTA_CORES[i][0]\n",
    "        cor = individual[i]\n",
    "        for j in range(10):\n",
    "            if (posicao in LISTA_CORES[j][:4] and cor == individual[j]):\n",
    "                if(posicao != LISTA_CORES[j][0]):\n",
    "                    cont = cont+1\n",
    "        fitness = fitness+cont\n",
    "    return fitness,"
   ]
  },
  {
   "cell_type": "code",
   "execution_count": 5,
   "metadata": {},
   "outputs": [],
   "source": [
    "toolbox.register(\"evaluate\", my_evaluate)\n",
    "toolbox.register(\"mutate\", tools.mutUniformInt, low=RANDINT_LOW, up=RANDINT_UP, indpb=0.005)\n",
    "toolbox.register(\"select\", tools.selTournament, tournsize=4)\n",
    "toolbox.register(\"mate\", tools.cxUniform, indpb=1)"
   ]
  },
  {
   "cell_type": "code",
   "execution_count": 6,
   "metadata": {},
   "outputs": [],
   "source": [
    "def main():\n",
    "    random.seed(64)\n",
    "    \n",
    "    pop = toolbox.population(n=50)\n",
    "    hof = tools.HallOfFame(3)\n",
    "    stats = tools.Statistics(lambda ind: ind.fitness.values)\n",
    "    stats.register(\"avg\", numpy.mean)\n",
    "    stats.register(\"std\", numpy.std)\n",
    "    stats.register(\"min\", numpy.min)\n",
    "    stats.register(\"max\", numpy.max)\n",
    "    \n",
    "    pop, log = algorithms.eaSimple(pop, toolbox, cxpb=0.5, mutpb=0.05, ngen=30, \n",
    "                                   stats=stats, halloffame=hof, verbose=True)\n",
    "    \n",
    "    return pop, log, hof"
   ]
  },
  {
   "cell_type": "code",
   "execution_count": 7,
   "metadata": {
    "scrolled": false
   },
   "outputs": [
    {
     "name": "stdout",
     "output_type": "stream",
     "text": [
      "gen\tnevals\tavg  \tstd    \tmin\tmax\n",
      "0  \t50    \t53.48\t22.1732\t11 \t91 \n",
      "1  \t22    \t26.92\t11.5531\t11 \t52 \n",
      "2  \t24    \t17.04\t4.18072\t11 \t31 \n",
      "3  \t29    \t13.46\t3.02132\t11 \t18 \n",
      "4  \t24    \t11.12\t0.84   \t11 \t17 \n",
      "5  \t28    \t11   \t0      \t11 \t11 \n",
      "6  \t21    \t11   \t0      \t11 \t11 \n",
      "7  \t23    \t11   \t0      \t11 \t11 \n",
      "8  \t17    \t11   \t0      \t11 \t11 \n",
      "9  \t37    \t11   \t0      \t11 \t11 \n",
      "10 \t28    \t11   \t0      \t11 \t11 \n",
      "11 \t26    \t11   \t0      \t11 \t11 \n",
      "12 \t26    \t11   \t0      \t11 \t11 \n",
      "13 \t24    \t11   \t0      \t11 \t11 \n",
      "14 \t34    \t11   \t0      \t11 \t11 \n",
      "15 \t18    \t11   \t0      \t11 \t11 \n",
      "16 \t32    \t11   \t0      \t11 \t11 \n",
      "17 \t32    \t10.78\t1.54   \t0  \t11 \n",
      "18 \t22    \t10.24\t4.15962\t0  \t28 \n",
      "19 \t18    \t6.82 \t5.33925\t0  \t11 \n",
      "20 \t21    \t2.2  \t4.4    \t0  \t11 \n",
      "21 \t31    \t0    \t0      \t0  \t0  \n",
      "22 \t30    \t0    \t0      \t0  \t0  \n",
      "23 \t23    \t0    \t0      \t0  \t0  \n",
      "24 \t21    \t0    \t0      \t0  \t0  \n",
      "25 \t36    \t0    \t0      \t0  \t0  \n",
      "26 \t22    \t0    \t0      \t0  \t0  \n",
      "27 \t17    \t0    \t0      \t0  \t0  \n",
      "28 \t26    \t0    \t0      \t0  \t0  \n",
      "29 \t33    \t0    \t0      \t0  \t0  \n",
      "30 \t27    \t0    \t0      \t0  \t0  \n",
      "[[2, 1, 2, 0, 1, 2, 1, 1, 0, 0], [2, 1, 2, 0, 1, 2, 1, 1, 0, 0], [2, 1, 2, 0, 1, 2, 1, 1, 0, 0], [2, 1, 2, 0, 1, 2, 1, 1, 0, 0], [2, 1, 2, 0, 1, 2, 1, 1, 0, 0], [2, 1, 2, 0, 1, 2, 1, 1, 0, 0], [2, 1, 2, 0, 1, 2, 1, 1, 0, 0], [2, 1, 2, 0, 1, 2, 1, 1, 0, 0], [2, 1, 2, 0, 1, 2, 1, 1, 0, 0], [2, 1, 2, 0, 1, 2, 1, 1, 0, 0], [2, 1, 2, 0, 1, 2, 1, 1, 0, 0], [2, 1, 2, 0, 1, 2, 1, 1, 0, 0], [2, 1, 2, 0, 1, 2, 1, 1, 0, 0], [2, 1, 2, 0, 1, 2, 1, 1, 0, 0], [2, 1, 2, 0, 1, 2, 1, 1, 0, 0], [2, 1, 2, 0, 1, 2, 1, 1, 0, 0], [2, 1, 2, 0, 1, 2, 1, 1, 0, 0], [2, 1, 2, 0, 1, 2, 1, 1, 0, 0], [2, 1, 2, 0, 1, 2, 1, 1, 0, 0], [2, 1, 2, 0, 1, 2, 1, 1, 0, 0], [2, 1, 2, 0, 1, 2, 1, 1, 0, 0], [2, 1, 2, 0, 1, 2, 1, 1, 0, 0], [2, 1, 2, 0, 1, 2, 1, 1, 0, 0], [2, 1, 2, 0, 1, 2, 1, 1, 0, 0], [2, 1, 2, 0, 1, 2, 1, 1, 0, 0], [2, 1, 2, 0, 1, 2, 1, 1, 0, 0], [2, 1, 2, 0, 1, 2, 1, 1, 0, 0], [2, 1, 2, 0, 1, 2, 1, 1, 0, 0], [2, 1, 2, 0, 1, 2, 1, 1, 0, 0], [2, 1, 2, 0, 1, 2, 1, 1, 0, 0], [2, 1, 2, 0, 1, 2, 1, 1, 0, 0], [2, 1, 2, 0, 1, 2, 1, 1, 0, 0], [2, 1, 2, 0, 1, 2, 1, 1, 0, 0], [2, 1, 2, 0, 1, 2, 1, 1, 0, 0], [2, 1, 2, 0, 1, 2, 1, 1, 0, 0], [2, 1, 2, 0, 1, 2, 1, 1, 0, 0], [2, 1, 2, 0, 1, 2, 1, 1, 0, 0], [2, 0, 2, 0, 1, 2, 1, 1, 0, 0], [2, 1, 2, 0, 1, 2, 1, 1, 0, 0], [2, 1, 2, 0, 1, 2, 1, 1, 0, 0], [2, 1, 2, 0, 1, 2, 1, 1, 0, 0], [2, 1, 2, 0, 1, 2, 1, 1, 0, 0], [2, 1, 2, 0, 1, 2, 1, 1, 0, 0], [2, 1, 2, 0, 1, 2, 1, 1, 0, 0], [2, 1, 2, 0, 1, 2, 1, 1, 0, 0], [2, 1, 2, 0, 1, 2, 1, 1, 0, 0], [2, 1, 2, 0, 1, 2, 1, 1, 0, 0], [2, 1, 2, 0, 1, 2, 1, 1, 0, 0], [2, 1, 2, 0, 1, 2, 1, 1, 0, 0], [2, 1, 2, 0, 1, 2, 1, 1, 0, 0]]\n",
      "Best: [[2, 0, 2, 0, 1, 2, 1, 1, 0, 0], [2, 1, 2, 0, 1, 2, 1, 1, 0, 0], [2, 1, 2, 0, 1, 2, 1, 1, 0, 2]]\n"
     ]
    }
   ],
   "source": [
    "if __name__ == \"__main__\":\n",
    "    results = main()\n",
    "    \n",
    "    print(results[0])\n",
    "    print(\"Best:\",results[2])"
   ]
  },
  {
   "cell_type": "code",
   "execution_count": null,
   "metadata": {},
   "outputs": [],
   "source": []
  }
 ],
 "metadata": {
  "kernelspec": {
   "display_name": "Python 3",
   "language": "python",
   "name": "python3"
  },
  "language_info": {
   "codemirror_mode": {
    "name": "ipython",
    "version": 3
   },
   "file_extension": ".py",
   "mimetype": "text/x-python",
   "name": "python",
   "nbconvert_exporter": "python",
   "pygments_lexer": "ipython3",
   "version": "3.7.1"
  }
 },
 "nbformat": 4,
 "nbformat_minor": 2
}
